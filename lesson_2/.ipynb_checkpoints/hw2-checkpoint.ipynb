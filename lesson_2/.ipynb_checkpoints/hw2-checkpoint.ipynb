{
 "cells": [
  {
   "cell_type": "code",
   "execution_count": 10,
   "metadata": {},
   "outputs": [],
   "source": [
    "from copy import deepcopy\n",
    "from tqdm import tqdm\n",
    "\n",
    "import seaborn\n",
    "import numpy as np\n",
    "import matplotlib.pyplot as plt\n",
    "%matplotlib inline\n",
    "from sklearn import linear_model, datasets"
   ]
  },
  {
   "cell_type": "code",
   "execution_count": 22,
   "metadata": {},
   "outputs": [],
   "source": [
    "n_samples = 1000\n",
    "\n",
    "\n",
    "\n",
    "x, y = datasets.make_regression(n_samples=n_samples, n_features=1,\n",
    "                                      n_informative=1, noise=100,\n",
    "                                      random_state=0)"
   ]
  },
  {
   "cell_type": "code",
   "execution_count": 23,
   "metadata": {},
   "outputs": [
    {
     "data": {
      "image/png": "[encoded data removed]",
      "text/plain": [
       "<Figure size 432x288 with 1 Axes>"
      ]
     },
     "metadata": {
      "needs_background": "light"
     },
     "output_type": "display_data"
    }
   ],
   "source": [
    "plt.scatter(x,y)\n",
    "plt.show()"
   ]
  },
  {
   "cell_type": "code",
   "execution_count": 24,
   "metadata": {},
   "outputs": [],
   "source": [
    "def calculate_predictions(theta0, theta1, X):\n",
    "    \"\"\"\n",
    "    Вычисление прогнозов.\n",
    "\n",
    "    Parameters\n",
    "    ----------\n",
    "    theta0: float\n",
    "        Значение параметра theta0.\n",
    "\n",
    "    theta1: float\n",
    "        Значение параметра theta1.\n",
    "\n",
    "    X: array-like, shape = [n_samples, ]\n",
    "        Вектор признаков.\n",
    "\n",
    "    Returns\n",
    "    -------\n",
    "    y_pred: array-like, shape = [n_samples, ]\n",
    "        Вектор прогнозов.\n",
    "\n",
    "    \"\"\"\n",
    "    return theta0 + theta1*X\n",
    "    \n",
    "\n",
    "def calculate_cost(theta0, theta1, X, y):\n",
    "    \"\"\"\n",
    "    Вычисление значения функции потерь.\n",
    "\n",
    "    Parameters\n",
    "    ----------\n",
    "    theta0: float\n",
    "        Значение параметра theta0.\n",
    "\n",
    "    theta1: float\n",
    "        Значение параметра theta1.\n",
    "\n",
    "    X: array-like, shape = [n_samples, n_features]\n",
    "        Вектор признаков.\n",
    "\n",
    "    y: array-like, shape = [n_samples, ]\n",
    "        Вектор целевой переменной.\n",
    "\n",
    "    Returns\n",
    "    -------\n",
    "    cost: float\n",
    "        Значение функции потерь.\n",
    "\n",
    "    \"\"\"\n",
    "    theta0 = np.atleast_3d(np.asarray(theta0))\n",
    "    theta1 = np.atleast_3d(np.asarray(theta1))\n",
    "\n",
    "    y_pred = calculate_predictions(theta0, theta1, X)\n",
    "    cost = np.average((y - y_pred)**2, axis=2)/2\n",
    "\n",
    "    return cost\n",
    "\n",
    "\n",
    "def gradient_descent_step(theta, X, y, learning_rate):\n",
    "    \"\"\"\n",
    "    Один шаг градиетного спуска.\n",
    "\n",
    "    Parameters\n",
    "    ----------\n",
    "    theta: array-like\n",
    "        Массив значений параметров theta.\n",
    "\n",
    "    X: array-like, shape = [n_samples, n_features]\n",
    "        Вектор признаков.\n",
    "\n",
    "    y: array-like, shape = [n_samples, ]\n",
    "        Вектор целевой переменной.\n",
    "\n",
    "    learning_rate: float\n",
    "        Темп обучения.\n",
    "\n",
    "    Returns\n",
    "    -------\n",
    "    updated_theta: array-like\n",
    "        Обновленный массив значений параметров theta.\n",
    "\n",
    "    \"\"\"\n",
    "    n = len(y)\n",
    "    y_pred = calculate_predictions(theta[0], theta[1], X)\n",
    "\n",
    "    updated_theta = deepcopy(theta)\n",
    "    updated_theta[0] -= learning_rate / n * np.sum((y_pred - y))\n",
    "    updated_theta[1] -= learning_rate / n * np.sum((y_pred - y) * X)\n",
    "\n",
    "    return updated_theta"
   ]
  },
  {
   "cell_type": "code",
   "execution_count": 25,
   "metadata": {},
   "outputs": [],
   "source": [
    "def plot_gradient_descent(cost_history, theta_history, X, y):\n",
    "    \"\"\"\n",
    "    Визуализация результатов градиетного спуска.\n",
    "    Осуществляется построения четырех графиков, на первом графике\n",
    "    отображена зависимость значения функции потерь на каждой\n",
    "    итерации обучения, на втором графике отображена зависимость\n",
    "    значений параметров theta на каждой итерации обучения, на\n",
    "    третьем графике отображен процесс изменения коэффициентов\n",
    "    theta и визуализация получаемой прямой, на четвертом графике\n",
    "    отображены линии уровня и процесс градиетного спуска\n",
    "\n",
    "    Parameters\n",
    "    ----------\n",
    "    cost_history: list[float]\n",
    "        Список со значениями функции потерь на каждой\n",
    "        итерации обучения.\n",
    "\n",
    "    theta_history: list[np.array]\n",
    "        Список двумерных массивов со значением параметров theta.\n",
    "\n",
    "    X: array-like, shape = [n_samples, n_features]\n",
    "        Вектор признаков.\n",
    "\n",
    "    y: array-like, shape = [n_samples, ]\n",
    "        Вектор целевой переменной.\n",
    "\n",
    "    \"\"\"\n",
    "    fig = plt.figure(figsize=(15, 15))\n",
    "    plt.subplot(221)\n",
    "    plt.scatter(range(len(cost_history)), cost_history)\n",
    "    plt.xlabel(\"n_iteration\", size=14)\n",
    "    plt.ylabel(r\"J($\\theta$)\", size=14)\n",
    "\n",
    "    plt.subplot(223)\n",
    "    plt.scatter(x, y, alpha=0.15)\n",
    "    for num, theta in enumerate(theta_history):\n",
    "        x_plot = np.linspace(-3, 3, 500)\n",
    "        y_plot = calculate_predictions(theta[0], theta[1], x_plot)\n",
    "        if num == 0:\n",
    "            plt.plot(x_plot, y_plot, color=\"green\", label=\"baseline\", linewidth=5)\n",
    "        if num == len(theta_history) - 1:\n",
    "            plt.plot(x_plot, y_plot, color=\"orange\", label=\"lastline\", linewidth=5)\n",
    "        else:\n",
    "            plt.plot(x_plot, y_plot, \"r--\", alpha=.5)\n",
    "    plt.xlim(x_plot.min(), x_plot.max())\n",
    "    plt.xlabel(\"x\", size=14)\n",
    "    plt.ylabel(\"y\", size=14)\n",
    "    plt.legend(loc=\"best\")\n",
    "\n",
    "    plt.subplot(222)\n",
    "    x_plot = range(len(cost_history)+1)\n",
    "    plt.scatter(x_plot, [theta[0] for theta in theta_history], label=r'$\\theta_0$')\n",
    "    plt.scatter(x_plot, [theta[1] for theta in theta_history], label=r'$\\theta_1$')\n",
    "    plt.xlabel(\"n_iteration\", size=14)\n",
    "    plt.ylabel(r\"$\\theta$\", size=14)\n",
    "    plt.legend(loc=\"best\")\n",
    "    plt.subplot(224)\n",
    "    plot_cost_function(X, y, theta_history)\n",
    "\n",
    "\n",
    "def plot_cost_function(X, y, theta_history):\n",
    "    \"\"\"\n",
    "    Визуализация процесса градиетного спуска и\n",
    "    построение линий уровня.\n",
    "\n",
    "    Parameters\n",
    "    ----------\n",
    "    X: array-like, shape = [n_samples, n_features]\n",
    "        Вектор признаков.\n",
    "\n",
    "    y: array-like, shape = [n_samples, ]\n",
    "        Вектор целевой переменной.\n",
    "\n",
    "    theta_history: list[np.array]\n",
    "        Список двумерных массивов со значением параметров theta.\n",
    "\n",
    "    \"\"\"\n",
    "    theta0 = [theta[0] for theta in theta_history]\n",
    "    theta1 = [theta[1] for theta in theta_history]\n",
    "\n",
    "    #theta0_grid = np.linspace(-5*min(theta0), max(theta0), 200)\n",
    "    #theta1_grid = np.linspace(-5*min(theta1), max(theta1), 200)\n",
    "    theta0_grid = np.linspace(-25, 25, 200)\n",
    "    theta1_grid = np.linspace(-25, 25, 200)\n",
    "    cost_grid = calculate_cost(\n",
    "        theta0_grid[np.newaxis,:,np.newaxis],\n",
    "        theta1_grid[:,np.newaxis,np.newaxis],\n",
    "        X, y\n",
    "    )\n",
    "    X, Y = np.meshgrid(theta0_grid, theta1_grid)\n",
    "\n",
    "    theta0, theta1 = theta_history[-1]\n",
    "    plt.scatter([theta0]*2, [theta1]*2, s=[50, 0], color=['k','w'])\n",
    "    contours = plt.contour(X, Y, cost_grid, 30)\n",
    "    plt.clabel(contours)\n",
    "\n",
    "    for it in range(1, len(theta_history)):\n",
    "        plt.annotate(\n",
    "            '', xy=theta_history[it], xytext=theta_history[it-1],\n",
    "            arrowprops={'arrowstyle': '->', 'color': 'r', 'lw': 2},\n",
    "            va='center', ha='center'\n",
    "        )\n",
    "\n",
    "    plt.scatter(*zip(*theta_history), color=\"black\", s=40, lw=0)\n",
    "    plt.xlim(theta0_grid.min(), theta0_grid.max())\n",
    "    plt.ylim(theta1_grid.min(), theta1_grid.max())\n",
    "    plt.xlabel(r'$\\theta_0$', size=15)\n",
    "    plt.ylabel(r'$\\theta_1$', size=15)\n",
    "    plt.title('Cost function', size=15)"
   ]
  },
  {
   "cell_type": "code",
   "execution_count": 26,
   "metadata": {},
   "outputs": [
    {
     "name": "stderr",
     "output_type": "stream",
     "text": [
      " 72%|██████████████████████████████████████████████████████████▎                      | 72/100 [00:02<00:00, 35.19it/s]C:\\Users\\Noyanlar\\anaconda3\\lib\\site-packages\\ipykernel_launcher.py:53: RuntimeWarning: overflow encountered in square\n",
      "100%|████████████████████████████████████████████████████████████████████████████████| 100/100 [00:03<00:00, 29.54it/s]\n"
     ]
    }
   ],
   "source": [
    "n_iterations, learning_rate = 100, 0.1\n",
    "theta_history, cost_history = [100*np.random.rand(2)], []\n",
    "\n",
    "for it in tqdm(range(n_iterations)):\n",
    "    last_theta = theta_history[-1]\n",
    "    current_theta = gradient_descent_step(\n",
    "        theta=last_theta, X=x, y=y, learning_rate=learning_rate\n",
    "    )\n",
    "    theta_history.append(current_theta)\n",
    "    cost_history.append(calculate_cost(current_theta[0], current_theta[1], X=x, y=y))"
   ]
  },
  {
   "cell_type": "code",
   "execution_count": 27,
   "metadata": {},
   "outputs": [
    {
     "data": {
      "image/png": "[encoded data removed]",
      "text/plain": [
       "<Figure size 432x288 with 1 Axes>"
      ]
     },
     "metadata": {
      "needs_background": "light"
     },
     "output_type": "display_data"
    }
   ],
   "source": [
    "plt.scatter(X,y)\n",
    "plt.show()"
   ]
  },
  {
   "cell_type": "code",
   "execution_count": 28,
   "metadata": {},
   "outputs": [
    {
     "ename": "ValueError",
     "evalue": "x and y must be the same size",
     "output_type": "error",
     "traceback": [
      "\u001b[1;31m---------------------------------------------------------------------------\u001b[0m",
      "\u001b[1;31mValueError\u001b[0m                                Traceback (most recent call last)",
      "\u001b[1;32m<ipython-input-28-74f45ef278dd>\u001b[0m in \u001b[0;36m<module>\u001b[1;34m\u001b[0m\n\u001b[0;32m      2\u001b[0m     \u001b[0mcost_history\u001b[0m\u001b[1;33m=\u001b[0m\u001b[0mcost_history\u001b[0m\u001b[1;33m,\u001b[0m\u001b[1;33m\u001b[0m\u001b[1;33m\u001b[0m\u001b[0m\n\u001b[0;32m      3\u001b[0m     \u001b[0mtheta_history\u001b[0m\u001b[1;33m=\u001b[0m\u001b[0mtheta_history\u001b[0m\u001b[1;33m,\u001b[0m\u001b[1;33m\u001b[0m\u001b[1;33m\u001b[0m\u001b[0m\n\u001b[1;32m----> 4\u001b[1;33m     \u001b[0mX\u001b[0m\u001b[1;33m=\u001b[0m\u001b[0mx\u001b[0m\u001b[1;33m,\u001b[0m \u001b[0my\u001b[0m\u001b[1;33m=\u001b[0m\u001b[0my\u001b[0m\u001b[1;33m\u001b[0m\u001b[1;33m\u001b[0m\u001b[0m\n\u001b[0m\u001b[0;32m      5\u001b[0m )\n",
      "\u001b[1;32m<ipython-input-25-258ab9bfb5a9>\u001b[0m in \u001b[0;36mplot_gradient_descent\u001b[1;34m(cost_history, theta_history, X, y)\u001b[0m\n\u001b[0;32m     28\u001b[0m     \u001b[0mfig\u001b[0m \u001b[1;33m=\u001b[0m \u001b[0mplt\u001b[0m\u001b[1;33m.\u001b[0m\u001b[0mfigure\u001b[0m\u001b[1;33m(\u001b[0m\u001b[0mfigsize\u001b[0m\u001b[1;33m=\u001b[0m\u001b[1;33m(\u001b[0m\u001b[1;36m15\u001b[0m\u001b[1;33m,\u001b[0m \u001b[1;36m15\u001b[0m\u001b[1;33m)\u001b[0m\u001b[1;33m)\u001b[0m\u001b[1;33m\u001b[0m\u001b[1;33m\u001b[0m\u001b[0m\n\u001b[0;32m     29\u001b[0m     \u001b[0mplt\u001b[0m\u001b[1;33m.\u001b[0m\u001b[0msubplot\u001b[0m\u001b[1;33m(\u001b[0m\u001b[1;36m221\u001b[0m\u001b[1;33m)\u001b[0m\u001b[1;33m\u001b[0m\u001b[1;33m\u001b[0m\u001b[0m\n\u001b[1;32m---> 30\u001b[1;33m     \u001b[0mplt\u001b[0m\u001b[1;33m.\u001b[0m\u001b[0mscatter\u001b[0m\u001b[1;33m(\u001b[0m\u001b[0mrange\u001b[0m\u001b[1;33m(\u001b[0m\u001b[0mlen\u001b[0m\u001b[1;33m(\u001b[0m\u001b[0mcost_history\u001b[0m\u001b[1;33m)\u001b[0m\u001b[1;33m)\u001b[0m\u001b[1;33m,\u001b[0m \u001b[0mcost_history\u001b[0m\u001b[1;33m)\u001b[0m\u001b[1;33m\u001b[0m\u001b[1;33m\u001b[0m\u001b[0m\n\u001b[0m\u001b[0;32m     31\u001b[0m     \u001b[0mplt\u001b[0m\u001b[1;33m.\u001b[0m\u001b[0mxlabel\u001b[0m\u001b[1;33m(\u001b[0m\u001b[1;34m\"n_iteration\"\u001b[0m\u001b[1;33m,\u001b[0m \u001b[0msize\u001b[0m\u001b[1;33m=\u001b[0m\u001b[1;36m14\u001b[0m\u001b[1;33m)\u001b[0m\u001b[1;33m\u001b[0m\u001b[1;33m\u001b[0m\u001b[0m\n\u001b[0;32m     32\u001b[0m     \u001b[0mplt\u001b[0m\u001b[1;33m.\u001b[0m\u001b[0mylabel\u001b[0m\u001b[1;33m(\u001b[0m\u001b[1;34mr\"J($\\theta$)\"\u001b[0m\u001b[1;33m,\u001b[0m \u001b[0msize\u001b[0m\u001b[1;33m=\u001b[0m\u001b[1;36m14\u001b[0m\u001b[1;33m)\u001b[0m\u001b[1;33m\u001b[0m\u001b[1;33m\u001b[0m\u001b[0m\n",
      "\u001b[1;32m~\\anaconda3\\lib\\site-packages\\matplotlib\\pyplot.py\u001b[0m in \u001b[0;36mscatter\u001b[1;34m(x, y, s, c, marker, cmap, norm, vmin, vmax, alpha, linewidths, verts, edgecolors, plotnonfinite, data, **kwargs)\u001b[0m\n\u001b[0;32m   2846\u001b[0m         \u001b[0mverts\u001b[0m\u001b[1;33m=\u001b[0m\u001b[0mverts\u001b[0m\u001b[1;33m,\u001b[0m \u001b[0medgecolors\u001b[0m\u001b[1;33m=\u001b[0m\u001b[0medgecolors\u001b[0m\u001b[1;33m,\u001b[0m\u001b[1;33m\u001b[0m\u001b[1;33m\u001b[0m\u001b[0m\n\u001b[0;32m   2847\u001b[0m         plotnonfinite=plotnonfinite, **({\"data\": data} if data is not\n\u001b[1;32m-> 2848\u001b[1;33m         None else {}), **kwargs)\n\u001b[0m\u001b[0;32m   2849\u001b[0m     \u001b[0msci\u001b[0m\u001b[1;33m(\u001b[0m\u001b[0m__ret\u001b[0m\u001b[1;33m)\u001b[0m\u001b[1;33m\u001b[0m\u001b[1;33m\u001b[0m\u001b[0m\n\u001b[0;32m   2850\u001b[0m     \u001b[1;32mreturn\u001b[0m \u001b[0m__ret\u001b[0m\u001b[1;33m\u001b[0m\u001b[1;33m\u001b[0m\u001b[0m\n",
      "\u001b[1;32m~\\anaconda3\\lib\\site-packages\\matplotlib\\__init__.py\u001b[0m in \u001b[0;36minner\u001b[1;34m(ax, data, *args, **kwargs)\u001b[0m\n\u001b[0;32m   1597\u001b[0m     \u001b[1;32mdef\u001b[0m \u001b[0minner\u001b[0m\u001b[1;33m(\u001b[0m\u001b[0max\u001b[0m\u001b[1;33m,\u001b[0m \u001b[1;33m*\u001b[0m\u001b[0margs\u001b[0m\u001b[1;33m,\u001b[0m \u001b[0mdata\u001b[0m\u001b[1;33m=\u001b[0m\u001b[1;32mNone\u001b[0m\u001b[1;33m,\u001b[0m \u001b[1;33m**\u001b[0m\u001b[0mkwargs\u001b[0m\u001b[1;33m)\u001b[0m\u001b[1;33m:\u001b[0m\u001b[1;33m\u001b[0m\u001b[1;33m\u001b[0m\u001b[0m\n\u001b[0;32m   1598\u001b[0m         \u001b[1;32mif\u001b[0m \u001b[0mdata\u001b[0m \u001b[1;32mis\u001b[0m \u001b[1;32mNone\u001b[0m\u001b[1;33m:\u001b[0m\u001b[1;33m\u001b[0m\u001b[1;33m\u001b[0m\u001b[0m\n\u001b[1;32m-> 1599\u001b[1;33m             \u001b[1;32mreturn\u001b[0m \u001b[0mfunc\u001b[0m\u001b[1;33m(\u001b[0m\u001b[0max\u001b[0m\u001b[1;33m,\u001b[0m \u001b[1;33m*\u001b[0m\u001b[0mmap\u001b[0m\u001b[1;33m(\u001b[0m\u001b[0msanitize_sequence\u001b[0m\u001b[1;33m,\u001b[0m \u001b[0margs\u001b[0m\u001b[1;33m)\u001b[0m\u001b[1;33m,\u001b[0m \u001b[1;33m**\u001b[0m\u001b[0mkwargs\u001b[0m\u001b[1;33m)\u001b[0m\u001b[1;33m\u001b[0m\u001b[1;33m\u001b[0m\u001b[0m\n\u001b[0m\u001b[0;32m   1600\u001b[0m \u001b[1;33m\u001b[0m\u001b[0m\n\u001b[0;32m   1601\u001b[0m         \u001b[0mbound\u001b[0m \u001b[1;33m=\u001b[0m \u001b[0mnew_sig\u001b[0m\u001b[1;33m.\u001b[0m\u001b[0mbind\u001b[0m\u001b[1;33m(\u001b[0m\u001b[0max\u001b[0m\u001b[1;33m,\u001b[0m \u001b[1;33m*\u001b[0m\u001b[0margs\u001b[0m\u001b[1;33m,\u001b[0m \u001b[1;33m**\u001b[0m\u001b[0mkwargs\u001b[0m\u001b[1;33m)\u001b[0m\u001b[1;33m\u001b[0m\u001b[1;33m\u001b[0m\u001b[0m\n",
      "\u001b[1;32m~\\anaconda3\\lib\\site-packages\\matplotlib\\axes\\_axes.py\u001b[0m in \u001b[0;36mscatter\u001b[1;34m(self, x, y, s, c, marker, cmap, norm, vmin, vmax, alpha, linewidths, verts, edgecolors, plotnonfinite, **kwargs)\u001b[0m\n\u001b[0;32m   4441\u001b[0m         \u001b[0my\u001b[0m \u001b[1;33m=\u001b[0m \u001b[0mnp\u001b[0m\u001b[1;33m.\u001b[0m\u001b[0mma\u001b[0m\u001b[1;33m.\u001b[0m\u001b[0mravel\u001b[0m\u001b[1;33m(\u001b[0m\u001b[0my\u001b[0m\u001b[1;33m)\u001b[0m\u001b[1;33m\u001b[0m\u001b[1;33m\u001b[0m\u001b[0m\n\u001b[0;32m   4442\u001b[0m         \u001b[1;32mif\u001b[0m \u001b[0mx\u001b[0m\u001b[1;33m.\u001b[0m\u001b[0msize\u001b[0m \u001b[1;33m!=\u001b[0m \u001b[0my\u001b[0m\u001b[1;33m.\u001b[0m\u001b[0msize\u001b[0m\u001b[1;33m:\u001b[0m\u001b[1;33m\u001b[0m\u001b[1;33m\u001b[0m\u001b[0m\n\u001b[1;32m-> 4443\u001b[1;33m             \u001b[1;32mraise\u001b[0m \u001b[0mValueError\u001b[0m\u001b[1;33m(\u001b[0m\u001b[1;34m\"x and y must be the same size\"\u001b[0m\u001b[1;33m)\u001b[0m\u001b[1;33m\u001b[0m\u001b[1;33m\u001b[0m\u001b[0m\n\u001b[0m\u001b[0;32m   4444\u001b[0m \u001b[1;33m\u001b[0m\u001b[0m\n\u001b[0;32m   4445\u001b[0m         \u001b[1;32mif\u001b[0m \u001b[0ms\u001b[0m \u001b[1;32mis\u001b[0m \u001b[1;32mNone\u001b[0m\u001b[1;33m:\u001b[0m\u001b[1;33m\u001b[0m\u001b[1;33m\u001b[0m\u001b[0m\n",
      "\u001b[1;31mValueError\u001b[0m: x and y must be the same size"
     ]
    },
    {
     "data": {
      "image/png": "[encoded data removed]",
      "text/plain": [
       "<Figure size 1080x1080 with 1 Axes>"
      ]
     },
     "metadata": {
      "needs_background": "light"
     },
     "output_type": "display_data"
    }
   ],
   "source": [
    "plot_gradient_descent(\n",
    "    cost_history=cost_history,\n",
    "    theta_history=theta_history,\n",
    "    X=x, y=y\n",
    ")"
   ]
  }
 ],
 "metadata": {
  "kernelspec": {
   "display_name": "Python 3",
   "language": "python",
   "name": "python3"
  },
  "language_info": {
   "codemirror_mode": {
    "name": "ipython",
    "version": 3
   },
   "file_extension": ".py",
   "mimetype": "text/x-python",
   "name": "python",
   "nbconvert_exporter": "python",
   "pygments_lexer": "ipython3",
   "version": "3.7.6"
  }
 },
 "nbformat": 4,
 "nbformat_minor": 4
}
